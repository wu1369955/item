{
  "nbformat": 4,
  "nbformat_minor": 0,
  "metadata": {
    "colab": {
      "name": "Untitled1.ipynb",
      "provenance": [],
      "mount_file_id": "1o-cuBxeyMJuV3lI9oO-111U0Jz6Pg31X",
      "authorship_tag": "ABX9TyPDHRD/+E1TGGPiC4itZot3",
      "include_colab_link": true
    },
    "kernelspec": {
      "name": "python3",
      "display_name": "Python 3"
    },
    "language_info": {
      "name": "python"
    },
    "accelerator": "GPU"
  },
  "cells": [
    {
      "cell_type": "markdown",
      "metadata": {
        "id": "view-in-github",
        "colab_type": "text"
      },
      "source": [
        "<a href=\"https://colab.research.google.com/github/wu1369955/item/blob/main/Untitled1.ipynb\" target=\"_parent\"><img src=\"https://colab.research.google.com/assets/colab-badge.svg\" alt=\"Open In Colab\"/></a>"
      ]
    },
    {
      "cell_type": "code",
      "metadata": {
        "colab": {
          "base_uri": "https://localhost:8080/"
        },
        "id": "-1GDpYWRGHns",
        "outputId": "822e0217-7763-4bcd-c6b8-67752a318908"
      },
      "source": [
        "!pip install visdom\n",
        "!pip install dlutils\n",
        "!pip install torch==0.4.1\n",
        "!pip install yacs\n",
        "!pip install scipy==1.2.1\n",
        "!pip install torchvision==0.4.0"
      ],
      "execution_count": 1,
      "outputs": [
        {
          "output_type": "stream",
          "text": [
            "Collecting visdom\n",
            "  Downloading visdom-0.1.8.9.tar.gz (676 kB)\n",
            "\u001b[K     |████████████████████████████████| 676 kB 3.9 MB/s \n",
            "\u001b[?25hRequirement already satisfied: numpy>=1.8 in /usr/local/lib/python3.7/dist-packages (from visdom) (1.19.5)\n",
            "Requirement already satisfied: scipy in /usr/local/lib/python3.7/dist-packages (from visdom) (1.4.1)\n",
            "Requirement already satisfied: requests in /usr/local/lib/python3.7/dist-packages (from visdom) (2.23.0)\n",
            "Requirement already satisfied: tornado in /usr/local/lib/python3.7/dist-packages (from visdom) (5.1.1)\n",
            "Requirement already satisfied: pyzmq in /usr/local/lib/python3.7/dist-packages (from visdom) (22.1.0)\n",
            "Requirement already satisfied: six in /usr/local/lib/python3.7/dist-packages (from visdom) (1.15.0)\n",
            "Collecting jsonpatch\n",
            "  Downloading jsonpatch-1.32-py2.py3-none-any.whl (12 kB)\n",
            "Collecting torchfile\n",
            "  Downloading torchfile-0.1.0.tar.gz (5.2 kB)\n",
            "Collecting websocket-client\n",
            "  Downloading websocket_client-1.1.0-py2.py3-none-any.whl (68 kB)\n",
            "\u001b[K     |████████████████████████████████| 68 kB 5.0 MB/s \n",
            "\u001b[?25hRequirement already satisfied: pillow in /usr/local/lib/python3.7/dist-packages (from visdom) (7.1.2)\n",
            "Collecting jsonpointer>=1.9\n",
            "  Downloading jsonpointer-2.1-py2.py3-none-any.whl (7.4 kB)\n",
            "Requirement already satisfied: chardet<4,>=3.0.2 in /usr/local/lib/python3.7/dist-packages (from requests->visdom) (3.0.4)\n",
            "Requirement already satisfied: certifi>=2017.4.17 in /usr/local/lib/python3.7/dist-packages (from requests->visdom) (2021.5.30)\n",
            "Requirement already satisfied: idna<3,>=2.5 in /usr/local/lib/python3.7/dist-packages (from requests->visdom) (2.10)\n",
            "Requirement already satisfied: urllib3!=1.25.0,!=1.25.1,<1.26,>=1.21.1 in /usr/local/lib/python3.7/dist-packages (from requests->visdom) (1.24.3)\n",
            "Building wheels for collected packages: visdom, torchfile\n",
            "  Building wheel for visdom (setup.py) ... \u001b[?25l\u001b[?25hdone\n",
            "  Created wheel for visdom: filename=visdom-0.1.8.9-py3-none-any.whl size=655249 sha256=9f5556e62501ab19d4693a4dc4bbff2326ecabb9b0ff9fc1d0843363f4690d49\n",
            "  Stored in directory: /root/.cache/pip/wheels/2d/d1/9b/cde923274eac9cbb6ff0d8c7c72fe30a3da9095a38fd50bbf1\n",
            "  Building wheel for torchfile (setup.py) ... \u001b[?25l\u001b[?25hdone\n",
            "  Created wheel for torchfile: filename=torchfile-0.1.0-py3-none-any.whl size=5710 sha256=9d2e9d013de96ef854dcc67f64206c189d28a3d2425e36e85caa67c1a6e58678\n",
            "  Stored in directory: /root/.cache/pip/wheels/ac/5c/3a/a80e1c65880945c71fd833408cd1e9a8cb7e2f8f37620bb75b\n",
            "Successfully built visdom torchfile\n",
            "Installing collected packages: jsonpointer, websocket-client, torchfile, jsonpatch, visdom\n",
            "Successfully installed jsonpatch-1.32 jsonpointer-2.1 torchfile-0.1.0 visdom-0.1.8.9 websocket-client-1.1.0\n",
            "Collecting dlutils\n",
            "  Downloading dlutils-0.0.12-py3-none-any.whl (46 kB)\n",
            "\u001b[K     |████████████████████████████████| 46 kB 1.8 MB/s \n",
            "\u001b[?25hInstalling collected packages: dlutils\n",
            "Successfully installed dlutils-0.0.12\n",
            "Collecting torch==0.4.1\n",
            "  Downloading torch-0.4.1-cp37-cp37m-manylinux1_x86_64.whl (519.5 MB)\n",
            "\u001b[K     |████████████████████████████████| 519.5 MB 21 kB/s \n",
            "\u001b[?25hInstalling collected packages: torch\n",
            "  Attempting uninstall: torch\n",
            "    Found existing installation: torch 1.9.0+cu102\n",
            "    Uninstalling torch-1.9.0+cu102:\n",
            "      Successfully uninstalled torch-1.9.0+cu102\n",
            "\u001b[31mERROR: pip's dependency resolver does not currently take into account all the packages that are installed. This behaviour is the source of the following dependency conflicts.\n",
            "torchvision 0.10.0+cu102 requires torch==1.9.0, but you have torch 0.4.1 which is incompatible.\n",
            "torchtext 0.10.0 requires torch==1.9.0, but you have torch 0.4.1 which is incompatible.\n",
            "fastai 1.0.61 requires torch>=1.0.0, but you have torch 0.4.1 which is incompatible.\u001b[0m\n",
            "Successfully installed torch-0.4.1\n",
            "Collecting yacs\n",
            "  Downloading yacs-0.1.8-py3-none-any.whl (14 kB)\n",
            "Requirement already satisfied: PyYAML in /usr/local/lib/python3.7/dist-packages (from yacs) (3.13)\n",
            "Installing collected packages: yacs\n",
            "Successfully installed yacs-0.1.8\n",
            "Collecting scipy==1.2.1\n",
            "  Downloading scipy-1.2.1-cp37-cp37m-manylinux1_x86_64.whl (24.8 MB)\n",
            "\u001b[K     |████████████████████████████████| 24.8 MB 39.9 MB/s \n",
            "\u001b[?25hRequirement already satisfied: numpy>=1.8.2 in /usr/local/lib/python3.7/dist-packages (from scipy==1.2.1) (1.19.5)\n",
            "Installing collected packages: scipy\n",
            "  Attempting uninstall: scipy\n",
            "    Found existing installation: scipy 1.4.1\n",
            "    Uninstalling scipy-1.4.1:\n",
            "      Successfully uninstalled scipy-1.4.1\n",
            "\u001b[31mERROR: pip's dependency resolver does not currently take into account all the packages that are installed. This behaviour is the source of the following dependency conflicts.\n",
            "fastai 1.0.61 requires torch>=1.0.0, but you have torch 0.4.1 which is incompatible.\n",
            "albumentations 0.1.12 requires imgaug<0.2.7,>=0.2.5, but you have imgaug 0.2.9 which is incompatible.\u001b[0m\n",
            "Successfully installed scipy-1.2.1\n"
          ],
          "name": "stdout"
        }
      ]
    },
    {
      "cell_type": "code",
      "metadata": {
        "id": "yReCQSN2IZ0a"
      },
      "source": [
        "from save_to_csv import save_results\n",
        "import logging\n",
        "import sys\n",
        "import utils.multiprocessing\n",
        "from defaults import get_cfg_defaults\n",
        "import os"
      ],
      "execution_count": 2,
      "outputs": []
    },
    {
      "cell_type": "code",
      "metadata": {
        "colab": {
          "base_uri": "https://localhost:8080/"
        },
        "id": "iJ2mP9GRK2Fw",
        "outputId": "f6520f98-e6ec-47c5-8a3a-78d668c5f526"
      },
      "source": [
        "!pip install torchvision==0.4.0 "
      ],
      "execution_count": 6,
      "outputs": [
        {
          "output_type": "stream",
          "text": [
            "Collecting torchvision==0.4.0\n",
            "  Downloading torchvision-0.4.0-cp37-cp37m-manylinux1_x86_64.whl (8.8 MB)\n",
            "\u001b[K     |████████████████████████████████| 8.8 MB 3.7 MB/s \n",
            "\u001b[?25hCollecting torch==1.2.0\n",
            "  Downloading torch-1.2.0-cp37-cp37m-manylinux1_x86_64.whl (748.9 MB)\n",
            "\u001b[K     |████████████████████████████████| 748.9 MB 717 bytes/s \n",
            "\u001b[?25hRequirement already satisfied: numpy in /usr/local/lib/python3.7/dist-packages (from torchvision==0.4.0) (1.19.5)\n",
            "Requirement already satisfied: six in /usr/local/lib/python3.7/dist-packages (from torchvision==0.4.0) (1.15.0)\n",
            "Requirement already satisfied: pillow>=4.1.1 in /usr/local/lib/python3.7/dist-packages (from torchvision==0.4.0) (7.1.2)\n",
            "Installing collected packages: torch, torchvision\n",
            "  Attempting uninstall: torch\n",
            "    Found existing installation: torch 0.4.1\n",
            "    Uninstalling torch-0.4.1:\n",
            "      Successfully uninstalled torch-0.4.1\n",
            "  Attempting uninstall: torchvision\n",
            "    Found existing installation: torchvision 0.10.0+cu102\n",
            "    Uninstalling torchvision-0.10.0+cu102:\n",
            "      Successfully uninstalled torchvision-0.10.0+cu102\n",
            "\u001b[31mERROR: pip's dependency resolver does not currently take into account all the packages that are installed. This behaviour is the source of the following dependency conflicts.\n",
            "torchtext 0.10.0 requires torch==1.9.0, but you have torch 1.2.0 which is incompatible.\u001b[0m\n",
            "Successfully installed torch-1.2.0 torchvision-0.4.0\n"
          ],
          "name": "stdout"
        }
      ]
    },
    {
      "cell_type": "code",
      "metadata": {
        "id": "8ehLj6Q3LzsC"
      },
      "source": [
        "import dlutils\n",
        "import random\n",
        "import pickle\n",
        "from defaults import get_cfg_defaults\n",
        "import numpy as np\n",
        "from os import path\n",
        "from scipy import misc\n",
        "import logging\n"
      ],
      "execution_count": 8,
      "outputs": []
    },
    {
      "cell_type": "code",
      "metadata": {
        "id": "w7qT5f6TMhE4"
      },
      "source": [
        "  def get_mnist():\n",
        "      dlutils.download.mnist()\n",
        "      mnist = dlutils.reader.Mnist('mnist', train=True, test=True).items\n",
        "\n",
        "      images = [x[1] for x in mnist]\n",
        "      labels = [x[0] for x in mnist]\n",
        "\n",
        "      images = np.asarray(images)\n",
        "\n",
        "      assert(images.shape == (70000, 28, 28))\n",
        "\n",
        "      _images = []\n",
        "      for im in images:\n",
        "          im = misc.imresize(im, (32, 32), interp='bilinear')\n",
        "          _images.append(im)\n",
        "      images = np.asarray(_images)\n",
        "\n",
        "      assert(images.shape == (70000, 32, 32))\n",
        "\n",
        "      #save_image(images[:1024], \"data_samples.png\", pad_value=0.5, nrow=32)\n",
        "      #save_image(images.astype(dtype=np.float32).mean(0), \"data_mean.png\", pad_value=0.5, nrow=1)\n",
        "      #save_image(images.astype(dtype=np.float32).max(0), \"data_max.png\", pad_value=0.5, nrow=1)\n",
        "\n",
        "      return [(l, im) for l, im in zip(labels, images)]\n",
        "\n",
        "\n",
        "  def partition(cfg, logger):\n",
        "      # to reproduce the same shuffle\n",
        "      random.seed(0)\n",
        "      mnist = get_mnist()\n",
        "\n",
        "      random.shuffle(mnist)\n",
        "\n",
        "      folds = cfg.DATASET.FOLDS_COUNT\n",
        "\n",
        "      class_bins = {}\n",
        "\n",
        "      for x in mnist:\n",
        "          if x[0] not in class_bins:\n",
        "              class_bins[x[0]] = []\n",
        "          class_bins[x[0]].append(x)\n",
        "\n",
        "      mnist_folds = [[] for _ in range(folds)]\n",
        "\n",
        "      for _class, data in class_bins.items():\n",
        "          count = len(data)\n",
        "          logger.info(\"Class %d count: %d\" % (_class, count))\n",
        "\n",
        "          count_per_fold = count // folds\n",
        "\n",
        "          for i in range(folds):\n",
        "              mnist_folds[i] += data[i * count_per_fold: (i + 1) * count_per_fold]\n",
        "\n",
        "      logger.info(\"Folds sizes:\")\n",
        "      for i in range(len(mnist_folds)):\n",
        "          print(len(mnist_folds[i]))\n",
        "\n",
        "          output = open(path.join(cfg.DATASET.PATH, 'data_fold_%d.pkl' % i), 'wb')\n",
        "          pickle.dump(mnist_folds[i], output)\n",
        "          output.close()\n"
      ],
      "execution_count": 9,
      "outputs": []
    },
    {
      "cell_type": "code",
      "metadata": {
        "colab": {
          "base_uri": "https://localhost:8080/"
        },
        "id": "Mu6UwCbENPyh",
        "outputId": "f2636001-e153-48c4-d8a7-663b2db57178"
      },
      "source": [
        "cfg = get_cfg_defaults()\n",
        "cfg.merge_from_file('configs/mnist.yaml')\n",
        "cfg.freeze()\n",
        "logger = logging.getLogger(\"logger\")\n",
        "partition(cfg, logger)\n"
      ],
      "execution_count": 10,
      "outputs": [
        {
          "output_type": "stream",
          "text": [
            "Downloading: train-images-idx3-ubyte.gz Bytes: 9912422\n",
            "   9912422  [100.00%]\n",
            "Extracting...\n",
            "Done\n",
            "Downloading: train-labels-idx1-ubyte.gz Bytes: 28881\n",
            "     28881  [100.00%]\n",
            "Extracting...\n",
            "Done\n",
            "Downloading: t10k-images-idx3-ubyte.gz Bytes: 1648877\n",
            "   1648877  [100.00%]\n",
            "Extracting...\n",
            "Done\n",
            "Downloading: t10k-labels-idx1-ubyte.gz Bytes: 4542\n",
            "      4542  [100.00%]\n",
            "Extracting...\n",
            "Done\n"
          ],
          "name": "stdout"
        },
        {
          "output_type": "stream",
          "text": [
            "/usr/local/lib/python3.7/dist-packages/ipykernel_launcher.py:14: DeprecationWarning:     `imresize` is deprecated!\n",
            "    `imresize` is deprecated in SciPy 1.0.0, and will be removed in 1.3.0.\n",
            "    Use Pillow instead: ``numpy.array(Image.fromarray(arr).resize())``.\n",
            "  \n"
          ],
          "name": "stderr"
        },
        {
          "output_type": "stream",
          "text": [
            "2021-07-30 11:45:12,399 logger INFO: Class 8 count: 6825\n",
            "2021-07-30 11:45:12,399 logger INFO: Class 8 count: 6825\n",
            "2021-07-30 11:45:12,405 logger INFO: Class 6 count: 6876\n",
            "2021-07-30 11:45:12,405 logger INFO: Class 6 count: 6876\n",
            "2021-07-30 11:45:12,409 logger INFO: Class 5 count: 6313\n",
            "2021-07-30 11:45:12,409 logger INFO: Class 5 count: 6313\n",
            "2021-07-30 11:45:12,412 logger INFO: Class 3 count: 7141\n",
            "2021-07-30 11:45:12,412 logger INFO: Class 3 count: 7141\n",
            "2021-07-30 11:45:12,415 logger INFO: Class 0 count: 6903\n",
            "2021-07-30 11:45:12,415 logger INFO: Class 0 count: 6903\n",
            "2021-07-30 11:45:12,430 logger INFO: Class 4 count: 6824\n",
            "2021-07-30 11:45:12,430 logger INFO: Class 4 count: 6824\n",
            "2021-07-30 11:45:12,435 logger INFO: Class 1 count: 7877\n",
            "2021-07-30 11:45:12,435 logger INFO: Class 1 count: 7877\n",
            "2021-07-30 11:45:12,441 logger INFO: Class 9 count: 6958\n",
            "2021-07-30 11:45:12,441 logger INFO: Class 9 count: 6958\n",
            "2021-07-30 11:45:12,449 logger INFO: Class 2 count: 6990\n",
            "2021-07-30 11:45:12,449 logger INFO: Class 2 count: 6990\n",
            "2021-07-30 11:45:12,461 logger INFO: Class 7 count: 7293\n",
            "2021-07-30 11:45:12,461 logger INFO: Class 7 count: 7293\n",
            "2021-07-30 11:45:12,464 logger INFO: Folds sizes:\n",
            "2021-07-30 11:45:12,464 logger INFO: Folds sizes:\n",
            "13996\n",
            "13996\n",
            "13996\n",
            "13996\n",
            "13996\n"
          ],
          "name": "stdout"
        }
      ]
    },
    {
      "cell_type": "code",
      "metadata": {
        "colab": {
          "base_uri": "https://localhost:8080/"
        },
        "id": "jAS40M2_KHYh",
        "outputId": "1ec0497b-e8f8-4ea2-c8ef-94a111756889"
      },
      "source": [
        "full_run = True\n",
        "\n",
        "logger = logging.getLogger(\"logger\")\n",
        "logger.setLevel(logging.DEBUG)\n",
        "ch = logging.StreamHandler(stream=sys.stdout)\n",
        "ch.setLevel(logging.DEBUG)\n",
        "formatter = logging.Formatter(\"%(asctime)s %(name)s %(levelname)s: %(message)s\")\n",
        "ch.setFormatter(formatter)\n",
        "logger.addHandler(ch)\n",
        "\n",
        "\n",
        "cfg_file = 'configs/mnist.yaml'\n",
        "\n",
        "mul = 0.2\n",
        "\n",
        "settings = []\n",
        "\n",
        "classes_count = 10\n",
        "\n",
        "for fold in range(5 if full_run else 1):\n",
        "    for i in range(classes_count):\n",
        "        settings.append(dict(fold=fold, digit=i))\n",
        "\n",
        "cfg = get_cfg_defaults()\n",
        "cfg.merge_from_file(cfg_file)\n",
        "cfg.freeze()\n",
        "\n",
        "\n",
        "def f(setting):\n",
        "    import train_AAE\n",
        "    import novelty_detector\n",
        "\n",
        "    fold_id = setting['fold']\n",
        "    inliner_classes = setting['digit']\n",
        "\n",
        "    train_AAE.train(fold_id, [inliner_classes], inliner_classes, cfg=cfg)\n",
        "\n",
        "    res = novelty_detector.main(fold_id, [inliner_classes], inliner_classes, classes_count, mul, cfg=cfg)\n",
        "    return res\n",
        "\n",
        "\n",
        "gpu_count = utils.multiprocessing.get_gpu_count()\n",
        "\n",
        "results = utils.multiprocessing.map(f, gpu_count, settings)\n",
        "\n",
        "save_results(results, os.path.join(cfg.OUTPUT_FOLDER, cfg.RESULTS_NAME))\n"
      ],
      "execution_count": null,
      "outputs": [
        {
          "output_type": "stream",
          "text": [
            "Running on GPU: 0, Tesla K80\n",
            "2021-07-30 11:45:56,347 logger INFO: Train set size: 4140\n",
            "2021-07-30 11:45:56,347 logger INFO: Train set size: 4140\n",
            "2021-07-30 11:45:56,347 logger INFO: Train set size: 4140\n"
          ],
          "name": "stdout"
        },
        {
          "output_type": "stream",
          "text": [
            "Progress: |###################################################| 100.0% [33/33] \n"
          ],
          "name": "stderr"
        },
        {
          "output_type": "stream",
          "text": [
            "2021-07-30 11:46:10,797 logger INFO: [1/80] - ptime: 12.68, D: 4.2514763, G: 7.9022393, ZD: 1.2467674, GE: 0.6751899, E: 1.3155422\n",
            "2021-07-30 11:46:10,797 logger INFO: [1/80] - ptime: 12.68, D: 4.2514763, G: 7.9022393, ZD: 1.2467674, GE: 0.6751899, E: 1.3155422\n",
            "2021-07-30 11:46:10,797 logger INFO: [1/80] - ptime: 12.68, D: 4.2514763, G: 7.9022393, ZD: 1.2467674, GE: 0.6751899, E: 1.3155422\n"
          ],
          "name": "stdout"
        },
        {
          "output_type": "stream",
          "text": [
            "Progress: |###################################################| 100.0% [33/33] \n"
          ],
          "name": "stderr"
        },
        {
          "output_type": "stream",
          "text": [
            "2021-07-30 11:46:23,730 logger INFO: [2/80] - ptime: 12.58, D: 1.8671044, G: 2.9761879, ZD: 0.8891612, GE: 0.6027834, E: 3.4335012\n",
            "2021-07-30 11:46:23,730 logger INFO: [2/80] - ptime: 12.58, D: 1.8671044, G: 2.9761879, ZD: 0.8891612, GE: 0.6027834, E: 3.4335012\n",
            "2021-07-30 11:46:23,730 logger INFO: [2/80] - ptime: 12.58, D: 1.8671044, G: 2.9761879, ZD: 0.8891612, GE: 0.6027834, E: 3.4335012\n"
          ],
          "name": "stdout"
        },
        {
          "output_type": "stream",
          "text": [
            "Progress: |###################################################| 100.0% [33/33] \n"
          ],
          "name": "stderr"
        },
        {
          "output_type": "stream",
          "text": [
            "2021-07-30 11:46:36,608 logger INFO: [3/80] - ptime: 12.58, D: 1.7112927, G: 2.7333944, ZD: 0.8832904, GE: 0.5766237, E: 4.0151782\n",
            "2021-07-30 11:46:36,608 logger INFO: [3/80] - ptime: 12.58, D: 1.7112927, G: 2.7333944, ZD: 0.8832904, GE: 0.5766237, E: 4.0151782\n",
            "2021-07-30 11:46:36,608 logger INFO: [3/80] - ptime: 12.58, D: 1.7112927, G: 2.7333944, ZD: 0.8832904, GE: 0.5766237, E: 4.0151782\n"
          ],
          "name": "stdout"
        },
        {
          "output_type": "stream",
          "text": [
            "Progress: |###################################################| 100.0% [33/33] \n"
          ],
          "name": "stderr"
        },
        {
          "output_type": "stream",
          "text": [
            "2021-07-30 11:46:49,575 logger INFO: [4/80] - ptime: 12.66, D: 1.7836342, G: 1.9770027, ZD: 1.4102570, GE: 0.4852054, E: 1.4921132\n",
            "2021-07-30 11:46:49,575 logger INFO: [4/80] - ptime: 12.66, D: 1.7836342, G: 1.9770027, ZD: 1.4102570, GE: 0.4852054, E: 1.4921132\n",
            "2021-07-30 11:46:49,575 logger INFO: [4/80] - ptime: 12.66, D: 1.7836342, G: 1.9770027, ZD: 1.4102570, GE: 0.4852054, E: 1.4921132\n"
          ],
          "name": "stdout"
        },
        {
          "output_type": "stream",
          "text": [
            "Progress: |###################################################| 100.0% [33/33] \n"
          ],
          "name": "stderr"
        },
        {
          "output_type": "stream",
          "text": [
            "2021-07-30 11:47:02,557 logger INFO: [5/80] - ptime: 12.68, D: 1.8079064, G: 1.3875391, ZD: 1.4243070, GE: 0.3876619, E: 0.6475073\n",
            "2021-07-30 11:47:02,557 logger INFO: [5/80] - ptime: 12.68, D: 1.8079064, G: 1.3875391, ZD: 1.4243070, GE: 0.3876619, E: 0.6475073\n",
            "2021-07-30 11:47:02,557 logger INFO: [5/80] - ptime: 12.68, D: 1.8079064, G: 1.3875391, ZD: 1.4243070, GE: 0.3876619, E: 0.6475073\n"
          ],
          "name": "stdout"
        },
        {
          "output_type": "stream",
          "text": [
            "Progress: |###################################################| 100.0% [33/33] \n"
          ],
          "name": "stderr"
        },
        {
          "output_type": "stream",
          "text": [
            "2021-07-30 11:47:15,657 logger INFO: [6/80] - ptime: 12.79, D: 1.6671773, G: 1.2316116, ZD: 1.3831699, GE: 0.3573029, E: 0.7222193\n",
            "2021-07-30 11:47:15,657 logger INFO: [6/80] - ptime: 12.79, D: 1.6671773, G: 1.2316116, ZD: 1.3831699, GE: 0.3573029, E: 0.7222193\n",
            "2021-07-30 11:47:15,657 logger INFO: [6/80] - ptime: 12.79, D: 1.6671773, G: 1.2316116, ZD: 1.3831699, GE: 0.3573029, E: 0.7222193\n"
          ],
          "name": "stdout"
        },
        {
          "output_type": "stream",
          "text": [
            "Progress: |###################################################| 100.0% [33/33] \n"
          ],
          "name": "stderr"
        },
        {
          "output_type": "stream",
          "text": [
            "2021-07-30 11:47:28,769 logger INFO: [7/80] - ptime: 12.82, D: 1.6632880, G: 1.2396334, ZD: 1.4066957, GE: 0.3469994, E: 0.6644742\n",
            "2021-07-30 11:47:28,769 logger INFO: [7/80] - ptime: 12.82, D: 1.6632880, G: 1.2396334, ZD: 1.4066957, GE: 0.3469994, E: 0.6644742\n",
            "2021-07-30 11:47:28,769 logger INFO: [7/80] - ptime: 12.82, D: 1.6632880, G: 1.2396334, ZD: 1.4066957, GE: 0.3469994, E: 0.6644742\n"
          ],
          "name": "stdout"
        },
        {
          "output_type": "stream",
          "text": [
            "Progress: |###################################################| 100.0% [33/33] \n"
          ],
          "name": "stderr"
        },
        {
          "output_type": "stream",
          "text": [
            "2021-07-30 11:47:41,949 logger INFO: [8/80] - ptime: 12.89, D: 1.5781729, G: 1.1235414, ZD: 1.3984746, GE: 0.3466679, E: 0.6681855\n",
            "2021-07-30 11:47:41,949 logger INFO: [8/80] - ptime: 12.89, D: 1.5781729, G: 1.1235414, ZD: 1.3984746, GE: 0.3466679, E: 0.6681855\n",
            "2021-07-30 11:47:41,949 logger INFO: [8/80] - ptime: 12.89, D: 1.5781729, G: 1.1235414, ZD: 1.3984746, GE: 0.3466679, E: 0.6681855\n"
          ],
          "name": "stdout"
        },
        {
          "output_type": "stream",
          "text": [
            "Progress: |###################################################| 100.0% [33/33] \n"
          ],
          "name": "stderr"
        },
        {
          "output_type": "stream",
          "text": [
            "2021-07-30 11:47:55,167 logger INFO: [9/80] - ptime: 12.82, D: 1.5824351, G: 1.1108613, ZD: 1.3972224, GE: 0.3368637, E: 0.6867348\n",
            "2021-07-30 11:47:55,167 logger INFO: [9/80] - ptime: 12.82, D: 1.5824351, G: 1.1108613, ZD: 1.3972224, GE: 0.3368637, E: 0.6867348\n",
            "2021-07-30 11:47:55,167 logger INFO: [9/80] - ptime: 12.82, D: 1.5824351, G: 1.1108613, ZD: 1.3972224, GE: 0.3368637, E: 0.6867348\n"
          ],
          "name": "stdout"
        },
        {
          "output_type": "stream",
          "text": [
            "Progress: |###################################################| 100.0% [33/33] \n"
          ],
          "name": "stderr"
        },
        {
          "output_type": "stream",
          "text": [
            "2021-07-30 11:48:08,418 logger INFO: [10/80] - ptime: 12.95, D: 1.4939718, G: 1.0349289, ZD: 1.3854362, GE: 0.3307683, E: 0.6905344\n",
            "2021-07-30 11:48:08,418 logger INFO: [10/80] - ptime: 12.95, D: 1.4939718, G: 1.0349289, ZD: 1.3854362, GE: 0.3307683, E: 0.6905344\n",
            "2021-07-30 11:48:08,418 logger INFO: [10/80] - ptime: 12.95, D: 1.4939718, G: 1.0349289, ZD: 1.3854362, GE: 0.3307683, E: 0.6905344\n"
          ],
          "name": "stdout"
        },
        {
          "output_type": "stream",
          "text": [
            "Progress: |###################################################| 100.0% [33/33] \n"
          ],
          "name": "stderr"
        },
        {
          "output_type": "stream",
          "text": [
            "2021-07-30 11:48:21,607 logger INFO: [11/80] - ptime: 12.90, D: 1.5399076, G: 1.0290396, ZD: 1.3907032, GE: 0.3282696, E: 0.6840503\n",
            "2021-07-30 11:48:21,607 logger INFO: [11/80] - ptime: 12.90, D: 1.5399076, G: 1.0290396, ZD: 1.3907032, GE: 0.3282696, E: 0.6840503\n",
            "2021-07-30 11:48:21,607 logger INFO: [11/80] - ptime: 12.90, D: 1.5399076, G: 1.0290396, ZD: 1.3907032, GE: 0.3282696, E: 0.6840503\n"
          ],
          "name": "stdout"
        },
        {
          "output_type": "stream",
          "text": [
            "Progress: |###################################################| 100.0% [33/33] \n"
          ],
          "name": "stderr"
        },
        {
          "output_type": "stream",
          "text": [
            "2021-07-30 11:48:34,856 logger INFO: [12/80] - ptime: 12.95, D: 1.5328856, G: 1.1026500, ZD: 1.3902677, GE: 0.3250623, E: 0.6870488\n",
            "2021-07-30 11:48:34,856 logger INFO: [12/80] - ptime: 12.95, D: 1.5328856, G: 1.1026500, ZD: 1.3902677, GE: 0.3250623, E: 0.6870488\n",
            "2021-07-30 11:48:34,856 logger INFO: [12/80] - ptime: 12.95, D: 1.5328856, G: 1.1026500, ZD: 1.3902677, GE: 0.3250623, E: 0.6870488\n"
          ],
          "name": "stdout"
        },
        {
          "output_type": "stream",
          "text": [
            "Progress: |###################################################| 100.0% [33/33] \n"
          ],
          "name": "stderr"
        },
        {
          "output_type": "stream",
          "text": [
            "2021-07-30 11:48:48,026 logger INFO: [13/80] - ptime: 12.86, D: 1.5468029, G: 1.0358483, ZD: 1.3887371, GE: 0.3262652, E: 0.6931550\n",
            "2021-07-30 11:48:48,026 logger INFO: [13/80] - ptime: 12.86, D: 1.5468029, G: 1.0358483, ZD: 1.3887371, GE: 0.3262652, E: 0.6931550\n",
            "2021-07-30 11:48:48,026 logger INFO: [13/80] - ptime: 12.86, D: 1.5468029, G: 1.0358483, ZD: 1.3887371, GE: 0.3262652, E: 0.6931550\n"
          ],
          "name": "stdout"
        },
        {
          "output_type": "stream",
          "text": [
            "Progress: |###################################################| 100.0% [33/33] \n"
          ],
          "name": "stderr"
        },
        {
          "output_type": "stream",
          "text": [
            "2021-07-30 11:49:01,268 logger INFO: [14/80] - ptime: 12.94, D: 1.4857365, G: 1.0986726, ZD: 1.3860346, GE: 0.3241960, E: 0.6994555\n",
            "2021-07-30 11:49:01,268 logger INFO: [14/80] - ptime: 12.94, D: 1.4857365, G: 1.0986726, ZD: 1.3860346, GE: 0.3241960, E: 0.6994555\n",
            "2021-07-30 11:49:01,268 logger INFO: [14/80] - ptime: 12.94, D: 1.4857365, G: 1.0986726, ZD: 1.3860346, GE: 0.3241960, E: 0.6994555\n"
          ],
          "name": "stdout"
        },
        {
          "output_type": "stream",
          "text": [
            "Progress: |###################################################| 100.0% [33/33] \n"
          ],
          "name": "stderr"
        },
        {
          "output_type": "stream",
          "text": [
            "2021-07-30 11:49:14,439 logger INFO: [15/80] - ptime: 12.88, D: 1.4570519, G: 0.9635290, ZD: 1.3842273, GE: 0.3235298, E: 0.7054202\n",
            "2021-07-30 11:49:14,439 logger INFO: [15/80] - ptime: 12.88, D: 1.4570519, G: 0.9635290, ZD: 1.3842273, GE: 0.3235298, E: 0.7054202\n",
            "2021-07-30 11:49:14,439 logger INFO: [15/80] - ptime: 12.88, D: 1.4570519, G: 0.9635290, ZD: 1.3842273, GE: 0.3235298, E: 0.7054202\n"
          ],
          "name": "stdout"
        },
        {
          "output_type": "stream",
          "text": [
            "Progress: |###################################################| 100.0% [33/33] \n"
          ],
          "name": "stderr"
        },
        {
          "output_type": "stream",
          "text": [
            "2021-07-30 11:49:27,707 logger INFO: [16/80] - ptime: 12.95, D: 1.4704632, G: 1.0532210, ZD: 1.3845245, GE: 0.3221166, E: 0.7007082\n",
            "2021-07-30 11:49:27,707 logger INFO: [16/80] - ptime: 12.95, D: 1.4704632, G: 1.0532210, ZD: 1.3845245, GE: 0.3221166, E: 0.7007082\n",
            "2021-07-30 11:49:27,707 logger INFO: [16/80] - ptime: 12.95, D: 1.4704632, G: 1.0532210, ZD: 1.3845245, GE: 0.3221166, E: 0.7007082\n"
          ],
          "name": "stdout"
        },
        {
          "output_type": "stream",
          "text": [
            "Progress: |###################################################| 100.0% [33/33] \n"
          ],
          "name": "stderr"
        },
        {
          "output_type": "stream",
          "text": [
            "2021-07-30 11:49:40,914 logger INFO: [17/80] - ptime: 12.90, D: 1.5127062, G: 1.1624134, ZD: 1.3843318, GE: 0.3280282, E: 0.7074410\n",
            "2021-07-30 11:49:40,914 logger INFO: [17/80] - ptime: 12.90, D: 1.5127062, G: 1.1624134, ZD: 1.3843318, GE: 0.3280282, E: 0.7074410\n",
            "2021-07-30 11:49:40,914 logger INFO: [17/80] - ptime: 12.90, D: 1.5127062, G: 1.1624134, ZD: 1.3843318, GE: 0.3280282, E: 0.7074410\n"
          ],
          "name": "stdout"
        },
        {
          "output_type": "stream",
          "text": [
            "Progress: |###################################################| 100.0% [33/33] \n"
          ],
          "name": "stderr"
        },
        {
          "output_type": "stream",
          "text": [
            "2021-07-30 11:49:54,144 logger INFO: [18/80] - ptime: 12.92, D: 1.4891154, G: 1.0642582, ZD: 1.3902261, GE: 0.3223770, E: 0.6916538\n",
            "2021-07-30 11:49:54,144 logger INFO: [18/80] - ptime: 12.92, D: 1.4891154, G: 1.0642582, ZD: 1.3902261, GE: 0.3223770, E: 0.6916538\n",
            "2021-07-30 11:49:54,144 logger INFO: [18/80] - ptime: 12.92, D: 1.4891154, G: 1.0642582, ZD: 1.3902261, GE: 0.3223770, E: 0.6916538\n"
          ],
          "name": "stdout"
        },
        {
          "output_type": "stream",
          "text": [
            "Progress: |###################################################| 100.0% [33/33] \n"
          ],
          "name": "stderr"
        },
        {
          "output_type": "stream",
          "text": [
            "2021-07-30 11:50:07,343 logger INFO: [19/80] - ptime: 12.89, D: 1.4923156, G: 1.1390114, ZD: 1.3871212, GE: 0.3249434, E: 0.6919203\n",
            "2021-07-30 11:50:07,343 logger INFO: [19/80] - ptime: 12.89, D: 1.4923156, G: 1.1390114, ZD: 1.3871212, GE: 0.3249434, E: 0.6919203\n",
            "2021-07-30 11:50:07,343 logger INFO: [19/80] - ptime: 12.89, D: 1.4923156, G: 1.1390114, ZD: 1.3871212, GE: 0.3249434, E: 0.6919203\n"
          ],
          "name": "stdout"
        },
        {
          "output_type": "stream",
          "text": [
            "Progress: |###################################################| 100.0% [33/33] \n"
          ],
          "name": "stderr"
        },
        {
          "output_type": "stream",
          "text": [
            "2021-07-30 11:50:20,598 logger INFO: [20/80] - ptime: 12.94, D: 1.3983239, G: 1.0880495, ZD: 1.3824253, GE: 0.3343073, E: 0.7023064\n",
            "2021-07-30 11:50:20,598 logger INFO: [20/80] - ptime: 12.94, D: 1.3983239, G: 1.0880495, ZD: 1.3824253, GE: 0.3343073, E: 0.7023064\n",
            "2021-07-30 11:50:20,598 logger INFO: [20/80] - ptime: 12.94, D: 1.3983239, G: 1.0880495, ZD: 1.3824253, GE: 0.3343073, E: 0.7023064\n"
          ],
          "name": "stdout"
        },
        {
          "output_type": "stream",
          "text": [
            "Progress: |###################################################| 100.0% [33/33] \n"
          ],
          "name": "stderr"
        },
        {
          "output_type": "stream",
          "text": [
            "2021-07-30 11:50:33,917 logger INFO: [21/80] - ptime: 12.91, D: 1.4957258, G: 1.1646899, ZD: 1.3762852, GE: 0.3523332, E: 0.7259643\n",
            "2021-07-30 11:50:33,917 logger INFO: [21/80] - ptime: 12.91, D: 1.4957258, G: 1.1646899, ZD: 1.3762852, GE: 0.3523332, E: 0.7259643\n",
            "2021-07-30 11:50:33,917 logger INFO: [21/80] - ptime: 12.91, D: 1.4957258, G: 1.1646899, ZD: 1.3762852, GE: 0.3523332, E: 0.7259643\n"
          ],
          "name": "stdout"
        },
        {
          "output_type": "stream",
          "text": [
            "Progress: |###################################################| 100.0% [33/33] \n"
          ],
          "name": "stderr"
        },
        {
          "output_type": "stream",
          "text": [
            "2021-07-30 11:50:47,194 logger INFO: [22/80] - ptime: 12.95, D: 1.4339617, G: 1.1461557, ZD: 1.3846279, GE: 0.3303230, E: 0.6940178\n",
            "2021-07-30 11:50:47,194 logger INFO: [22/80] - ptime: 12.95, D: 1.4339617, G: 1.1461557, ZD: 1.3846279, GE: 0.3303230, E: 0.6940178\n",
            "2021-07-30 11:50:47,194 logger INFO: [22/80] - ptime: 12.95, D: 1.4339617, G: 1.1461557, ZD: 1.3846279, GE: 0.3303230, E: 0.6940178\n"
          ],
          "name": "stdout"
        },
        {
          "output_type": "stream",
          "text": [
            "Progress: |###################################################| 100.0% [33/33] \n"
          ],
          "name": "stderr"
        },
        {
          "output_type": "stream",
          "text": [
            "2021-07-30 11:51:00,366 logger INFO: [23/80] - ptime: 12.88, D: 1.4732156, G: 1.0637870, ZD: 1.3840137, GE: 0.3216834, E: 0.6971804\n",
            "2021-07-30 11:51:00,366 logger INFO: [23/80] - ptime: 12.88, D: 1.4732156, G: 1.0637870, ZD: 1.3840137, GE: 0.3216834, E: 0.6971804\n",
            "2021-07-30 11:51:00,366 logger INFO: [23/80] - ptime: 12.88, D: 1.4732156, G: 1.0637870, ZD: 1.3840137, GE: 0.3216834, E: 0.6971804\n"
          ],
          "name": "stdout"
        },
        {
          "output_type": "stream",
          "text": [
            "Progress: |###################################################| 100.0% [33/33] \n"
          ],
          "name": "stderr"
        },
        {
          "output_type": "stream",
          "text": [
            "2021-07-30 11:51:13,602 logger INFO: [24/80] - ptime: 12.94, D: 1.4534211, G: 1.1714402, ZD: 1.3814583, GE: 0.3330652, E: 0.7057456\n",
            "2021-07-30 11:51:13,602 logger INFO: [24/80] - ptime: 12.94, D: 1.4534211, G: 1.1714402, ZD: 1.3814583, GE: 0.3330652, E: 0.7057456\n",
            "2021-07-30 11:51:13,602 logger INFO: [24/80] - ptime: 12.94, D: 1.4534211, G: 1.1714402, ZD: 1.3814583, GE: 0.3330652, E: 0.7057456\n"
          ],
          "name": "stdout"
        },
        {
          "output_type": "stream",
          "text": [
            "Progress: |###################################################| 100.0% [33/33] \n"
          ],
          "name": "stderr"
        },
        {
          "output_type": "stream",
          "text": [
            "2021-07-30 11:51:26,757 logger INFO: [25/80] - ptime: 12.87, D: 1.4120655, G: 1.2172905, ZD: 1.3758563, GE: 0.3414240, E: 0.7167324\n",
            "2021-07-30 11:51:26,757 logger INFO: [25/80] - ptime: 12.87, D: 1.4120655, G: 1.2172905, ZD: 1.3758563, GE: 0.3414240, E: 0.7167324\n",
            "2021-07-30 11:51:26,757 logger INFO: [25/80] - ptime: 12.87, D: 1.4120655, G: 1.2172905, ZD: 1.3758563, GE: 0.3414240, E: 0.7167324\n"
          ],
          "name": "stdout"
        },
        {
          "output_type": "stream",
          "text": [
            "Progress: |###################################################| 100.0% [33/33] \n"
          ],
          "name": "stderr"
        },
        {
          "output_type": "stream",
          "text": [
            "2021-07-30 11:51:39,998 logger INFO: [26/80] - ptime: 12.94, D: 1.4824404, G: 1.0338650, ZD: 1.3932316, GE: 0.3249829, E: 0.6876038\n",
            "2021-07-30 11:51:39,998 logger INFO: [26/80] - ptime: 12.94, D: 1.4824404, G: 1.0338650, ZD: 1.3932316, GE: 0.3249829, E: 0.6876038\n",
            "2021-07-30 11:51:39,998 logger INFO: [26/80] - ptime: 12.94, D: 1.4824404, G: 1.0338650, ZD: 1.3932316, GE: 0.3249829, E: 0.6876038\n"
          ],
          "name": "stdout"
        },
        {
          "output_type": "stream",
          "text": [
            "Progress: |###################################################| 100.0% [33/33] \n"
          ],
          "name": "stderr"
        },
        {
          "output_type": "stream",
          "text": [
            "2021-07-30 11:51:53,185 logger INFO: [27/80] - ptime: 12.89, D: 1.4240551, G: 1.2232248, ZD: 1.3840111, GE: 0.3355365, E: 0.7015355\n",
            "2021-07-30 11:51:53,185 logger INFO: [27/80] - ptime: 12.89, D: 1.4240551, G: 1.2232248, ZD: 1.3840111, GE: 0.3355365, E: 0.7015355\n",
            "2021-07-30 11:51:53,185 logger INFO: [27/80] - ptime: 12.89, D: 1.4240551, G: 1.2232248, ZD: 1.3840111, GE: 0.3355365, E: 0.7015355\n"
          ],
          "name": "stdout"
        },
        {
          "output_type": "stream",
          "text": [
            "Progress: |###################################################| 100.0% [33/33] \n"
          ],
          "name": "stderr"
        },
        {
          "output_type": "stream",
          "text": [
            "2021-07-30 11:52:06,424 logger INFO: [28/80] - ptime: 12.93, D: 1.3949037, G: 1.2315515, ZD: 1.3799152, GE: 0.3427202, E: 0.7116548\n",
            "2021-07-30 11:52:06,424 logger INFO: [28/80] - ptime: 12.93, D: 1.3949037, G: 1.2315515, ZD: 1.3799152, GE: 0.3427202, E: 0.7116548\n",
            "2021-07-30 11:52:06,424 logger INFO: [28/80] - ptime: 12.93, D: 1.3949037, G: 1.2315515, ZD: 1.3799152, GE: 0.3427202, E: 0.7116548\n"
          ],
          "name": "stdout"
        },
        {
          "output_type": "stream",
          "text": [
            "Progress: |###################################################| 100.0% [33/33] \n"
          ],
          "name": "stderr"
        },
        {
          "output_type": "stream",
          "text": [
            "2021-07-30 11:52:19,632 logger INFO: [29/80] - ptime: 12.91, D: 1.3781431, G: 1.2915031, ZD: 1.3752595, GE: 0.3556364, E: 0.7286214\n",
            "2021-07-30 11:52:19,632 logger INFO: [29/80] - ptime: 12.91, D: 1.3781431, G: 1.2915031, ZD: 1.3752595, GE: 0.3556364, E: 0.7286214\n",
            "2021-07-30 11:52:19,632 logger INFO: [29/80] - ptime: 12.91, D: 1.3781431, G: 1.2915031, ZD: 1.3752595, GE: 0.3556364, E: 0.7286214\n",
            "learning rate change!\n"
          ],
          "name": "stdout"
        },
        {
          "output_type": "stream",
          "text": [
            "Progress: |###################################################| 100.0% [33/33] \n"
          ],
          "name": "stderr"
        },
        {
          "output_type": "stream",
          "text": [
            "2021-07-30 11:52:32,851 logger INFO: [30/80] - ptime: 12.92, D: 1.0443991, G: 1.0437604, ZD: 1.3939322, GE: 0.3037820, E: 0.6839566\n",
            "2021-07-30 11:52:32,851 logger INFO: [30/80] - ptime: 12.92, D: 1.0443991, G: 1.0437604, ZD: 1.3939322, GE: 0.3037820, E: 0.6839566\n",
            "2021-07-30 11:52:32,851 logger INFO: [30/80] - ptime: 12.92, D: 1.0443991, G: 1.0437604, ZD: 1.3939322, GE: 0.3037820, E: 0.6839566\n"
          ],
          "name": "stdout"
        },
        {
          "output_type": "stream",
          "text": [
            "Progress: |###################################################| 100.0% [33/33] \n"
          ],
          "name": "stderr"
        },
        {
          "output_type": "stream",
          "text": [
            "2021-07-30 11:52:46,026 logger INFO: [31/80] - ptime: 12.87, D: 0.9705017, G: 1.2463232, ZD: 1.3934473, GE: 0.3009327, E: 0.6726381\n",
            "2021-07-30 11:52:46,026 logger INFO: [31/80] - ptime: 12.87, D: 0.9705017, G: 1.2463232, ZD: 1.3934473, GE: 0.3009327, E: 0.6726381\n",
            "2021-07-30 11:52:46,026 logger INFO: [31/80] - ptime: 12.87, D: 0.9705017, G: 1.2463232, ZD: 1.3934473, GE: 0.3009327, E: 0.6726381\n"
          ],
          "name": "stdout"
        },
        {
          "output_type": "stream",
          "text": [
            "Progress: |###################################################| 100.0% [33/33] \n"
          ],
          "name": "stderr"
        },
        {
          "output_type": "stream",
          "text": [
            "2021-07-30 11:52:59,251 logger INFO: [32/80] - ptime: 12.93, D: 0.9917901, G: 1.3315258, ZD: 1.3983393, GE: 0.2986000, E: 0.6798493\n",
            "2021-07-30 11:52:59,251 logger INFO: [32/80] - ptime: 12.93, D: 0.9917901, G: 1.3315258, ZD: 1.3983393, GE: 0.2986000, E: 0.6798493\n",
            "2021-07-30 11:52:59,251 logger INFO: [32/80] - ptime: 12.93, D: 0.9917901, G: 1.3315258, ZD: 1.3983393, GE: 0.2986000, E: 0.6798493\n"
          ],
          "name": "stdout"
        },
        {
          "output_type": "stream",
          "text": [
            "Progress: |###################################################| 100.0% [33/33] \n"
          ],
          "name": "stderr"
        },
        {
          "output_type": "stream",
          "text": [
            "2021-07-30 11:53:12,431 logger INFO: [33/80] - ptime: 12.87, D: 0.9320051, G: 1.4397658, ZD: 1.3912530, GE: 0.2955148, E: 0.6683397\n",
            "2021-07-30 11:53:12,431 logger INFO: [33/80] - ptime: 12.87, D: 0.9320051, G: 1.4397658, ZD: 1.3912530, GE: 0.2955148, E: 0.6683397\n",
            "2021-07-30 11:53:12,431 logger INFO: [33/80] - ptime: 12.87, D: 0.9320051, G: 1.4397658, ZD: 1.3912530, GE: 0.2955148, E: 0.6683397\n"
          ],
          "name": "stdout"
        },
        {
          "output_type": "stream",
          "text": [
            "Progress: |###################################################| 100.0% [33/33] \n"
          ],
          "name": "stderr"
        },
        {
          "output_type": "stream",
          "text": [
            "2021-07-30 11:53:25,676 logger INFO: [34/80] - ptime: 12.94, D: 0.9738972, G: 1.4718136, ZD: 1.3871089, GE: 0.2965212, E: 0.6837505\n",
            "2021-07-30 11:53:25,676 logger INFO: [34/80] - ptime: 12.94, D: 0.9738972, G: 1.4718136, ZD: 1.3871089, GE: 0.2965212, E: 0.6837505\n",
            "2021-07-30 11:53:25,676 logger INFO: [34/80] - ptime: 12.94, D: 0.9738972, G: 1.4718136, ZD: 1.3871089, GE: 0.2965212, E: 0.6837505\n"
          ],
          "name": "stdout"
        },
        {
          "output_type": "stream",
          "text": [
            "Progress: |###################################################| 100.0% [33/33] \n"
          ],
          "name": "stderr"
        },
        {
          "output_type": "stream",
          "text": [
            "2021-07-30 11:53:38,842 logger INFO: [35/80] - ptime: 12.86, D: 0.9653811, G: 1.6407076, ZD: 1.3982590, GE: 0.2956599, E: 0.6746898\n",
            "2021-07-30 11:53:38,842 logger INFO: [35/80] - ptime: 12.86, D: 0.9653811, G: 1.6407076, ZD: 1.3982590, GE: 0.2956599, E: 0.6746898\n",
            "2021-07-30 11:53:38,842 logger INFO: [35/80] - ptime: 12.86, D: 0.9653811, G: 1.6407076, ZD: 1.3982590, GE: 0.2956599, E: 0.6746898\n"
          ],
          "name": "stdout"
        },
        {
          "output_type": "stream",
          "text": [
            "Progress: |###################################################| 100.0% [33/33] \n"
          ],
          "name": "stderr"
        },
        {
          "output_type": "stream",
          "text": [
            "2021-07-30 11:53:52,270 logger INFO: [36/80] - ptime: 12.89, D: 0.9015794, G: 1.6556557, ZD: 1.3811005, GE: 0.2919067, E: 0.6970397\n",
            "2021-07-30 11:53:52,270 logger INFO: [36/80] - ptime: 12.89, D: 0.9015794, G: 1.6556557, ZD: 1.3811005, GE: 0.2919067, E: 0.6970397\n",
            "2021-07-30 11:53:52,270 logger INFO: [36/80] - ptime: 12.89, D: 0.9015794, G: 1.6556557, ZD: 1.3811005, GE: 0.2919067, E: 0.6970397\n"
          ],
          "name": "stdout"
        },
        {
          "output_type": "stream",
          "text": [
            "Progress: |###################################################| 100.0% [33/33] \n"
          ],
          "name": "stderr"
        },
        {
          "output_type": "stream",
          "text": [
            "2021-07-30 11:54:05,431 logger INFO: [37/80] - ptime: 12.86, D: 0.8013277, G: 1.9159234, ZD: 1.3909720, GE: 0.2950429, E: 0.6942104\n",
            "2021-07-30 11:54:05,431 logger INFO: [37/80] - ptime: 12.86, D: 0.8013277, G: 1.9159234, ZD: 1.3909720, GE: 0.2950429, E: 0.6942104\n",
            "2021-07-30 11:54:05,431 logger INFO: [37/80] - ptime: 12.86, D: 0.8013277, G: 1.9159234, ZD: 1.3909720, GE: 0.2950429, E: 0.6942104\n"
          ],
          "name": "stdout"
        },
        {
          "output_type": "stream",
          "text": [
            "Progress: |###################################################| 100.0% [33/33] \n"
          ],
          "name": "stderr"
        },
        {
          "output_type": "stream",
          "text": [
            "2021-07-30 11:54:18,648 logger INFO: [38/80] - ptime: 12.91, D: 0.8938435, G: 1.9553306, ZD: 1.3970814, GE: 0.2914453, E: 0.6697470\n",
            "2021-07-30 11:54:18,648 logger INFO: [38/80] - ptime: 12.91, D: 0.8938435, G: 1.9553306, ZD: 1.3970814, GE: 0.2914453, E: 0.6697470\n",
            "2021-07-30 11:54:18,648 logger INFO: [38/80] - ptime: 12.91, D: 0.8938435, G: 1.9553306, ZD: 1.3970814, GE: 0.2914453, E: 0.6697470\n"
          ],
          "name": "stdout"
        },
        {
          "output_type": "stream",
          "text": [
            "Progress: |###################################################| 100.0% [33/33] \n"
          ],
          "name": "stderr"
        },
        {
          "output_type": "stream",
          "text": [
            "2021-07-30 11:54:31,793 logger INFO: [39/80] - ptime: 12.83, D: 0.9146593, G: 1.7733761, ZD: 1.3792301, GE: 0.2886690, E: 0.7062057\n",
            "2021-07-30 11:54:31,793 logger INFO: [39/80] - ptime: 12.83, D: 0.9146593, G: 1.7733761, ZD: 1.3792301, GE: 0.2886690, E: 0.7062057\n",
            "2021-07-30 11:54:31,793 logger INFO: [39/80] - ptime: 12.83, D: 0.9146593, G: 1.7733761, ZD: 1.3792301, GE: 0.2886690, E: 0.7062057\n"
          ],
          "name": "stdout"
        },
        {
          "output_type": "stream",
          "text": [
            "Progress: |###################################################| 100.0% [33/33] \n"
          ],
          "name": "stderr"
        },
        {
          "output_type": "stream",
          "text": [
            "2021-07-30 11:54:44,972 logger INFO: [40/80] - ptime: 12.88, D: 0.8468713, G: 1.9115615, ZD: 1.3843908, GE: 0.2921182, E: 0.7173008\n",
            "2021-07-30 11:54:44,972 logger INFO: [40/80] - ptime: 12.88, D: 0.8468713, G: 1.9115615, ZD: 1.3843908, GE: 0.2921182, E: 0.7173008\n",
            "2021-07-30 11:54:44,972 logger INFO: [40/80] - ptime: 12.88, D: 0.8468713, G: 1.9115615, ZD: 1.3843908, GE: 0.2921182, E: 0.7173008\n"
          ],
          "name": "stdout"
        },
        {
          "output_type": "stream",
          "text": [
            "Progress: |###################################################| 100.0% [33/33] \n"
          ],
          "name": "stderr"
        },
        {
          "output_type": "stream",
          "text": [
            "2021-07-30 11:54:58,126 logger INFO: [41/80] - ptime: 12.84, D: 0.9085528, G: 1.9707762, ZD: 1.3983864, GE: 0.2903057, E: 0.6634158\n",
            "2021-07-30 11:54:58,126 logger INFO: [41/80] - ptime: 12.84, D: 0.9085528, G: 1.9707762, ZD: 1.3983864, GE: 0.2903057, E: 0.6634158\n",
            "2021-07-30 11:54:58,126 logger INFO: [41/80] - ptime: 12.84, D: 0.9085528, G: 1.9707762, ZD: 1.3983864, GE: 0.2903057, E: 0.6634158\n"
          ],
          "name": "stdout"
        },
        {
          "output_type": "stream",
          "text": [
            "Progress: |###################################################| 100.0% [33/33] \n"
          ],
          "name": "stderr"
        },
        {
          "output_type": "stream",
          "text": [
            "2021-07-30 11:55:11,337 logger INFO: [42/80] - ptime: 12.90, D: 0.8007848, G: 1.9651843, ZD: 1.3833107, GE: 0.2861216, E: 0.6914473\n",
            "2021-07-30 11:55:11,337 logger INFO: [42/80] - ptime: 12.90, D: 0.8007848, G: 1.9651843, ZD: 1.3833107, GE: 0.2861216, E: 0.6914473\n",
            "2021-07-30 11:55:11,337 logger INFO: [42/80] - ptime: 12.90, D: 0.8007848, G: 1.9651843, ZD: 1.3833107, GE: 0.2861216, E: 0.6914473\n"
          ],
          "name": "stdout"
        },
        {
          "output_type": "stream",
          "text": [
            "Progress: |###################################################| 100.0% [33/33] \n"
          ],
          "name": "stderr"
        },
        {
          "output_type": "stream",
          "text": [
            "2021-07-30 11:55:24,493 logger INFO: [43/80] - ptime: 12.86, D: 0.8702481, G: 2.0315733, ZD: 1.3865619, GE: 0.2878395, E: 0.7003669\n",
            "2021-07-30 11:55:24,493 logger INFO: [43/80] - ptime: 12.86, D: 0.8702481, G: 2.0315733, ZD: 1.3865619, GE: 0.2878395, E: 0.7003669\n",
            "2021-07-30 11:55:24,493 logger INFO: [43/80] - ptime: 12.86, D: 0.8702481, G: 2.0315733, ZD: 1.3865619, GE: 0.2878395, E: 0.7003669\n"
          ],
          "name": "stdout"
        },
        {
          "output_type": "stream",
          "text": [
            "Progress: |###################################################| 100.0% [33/33] \n"
          ],
          "name": "stderr"
        },
        {
          "output_type": "stream",
          "text": [
            "2021-07-30 11:55:37,721 logger INFO: [44/80] - ptime: 12.93, D: 0.7423668, G: 2.3122394, ZD: 1.3879243, GE: 0.2883804, E: 0.6893666\n",
            "2021-07-30 11:55:37,721 logger INFO: [44/80] - ptime: 12.93, D: 0.7423668, G: 2.3122394, ZD: 1.3879243, GE: 0.2883804, E: 0.6893666\n",
            "2021-07-30 11:55:37,721 logger INFO: [44/80] - ptime: 12.93, D: 0.7423668, G: 2.3122394, ZD: 1.3879243, GE: 0.2883804, E: 0.6893666\n"
          ],
          "name": "stdout"
        },
        {
          "output_type": "stream",
          "text": [
            "Progress: |###################################################| 100.0% [33/33] \n"
          ],
          "name": "stderr"
        },
        {
          "output_type": "stream",
          "text": [
            "2021-07-30 11:55:50,854 logger INFO: [45/80] - ptime: 12.84, D: 0.7411194, G: 2.3070748, ZD: 1.3898014, GE: 0.2849083, E: 0.6751273\n",
            "2021-07-30 11:55:50,854 logger INFO: [45/80] - ptime: 12.84, D: 0.7411194, G: 2.3070748, ZD: 1.3898014, GE: 0.2849083, E: 0.6751273\n",
            "2021-07-30 11:55:50,854 logger INFO: [45/80] - ptime: 12.84, D: 0.7411194, G: 2.3070748, ZD: 1.3898014, GE: 0.2849083, E: 0.6751273\n"
          ],
          "name": "stdout"
        },
        {
          "output_type": "stream",
          "text": [
            "Progress: |###################################################| 100.0% [33/33] \n"
          ],
          "name": "stderr"
        },
        {
          "output_type": "stream",
          "text": [
            "2021-07-30 11:56:04,071 logger INFO: [46/80] - ptime: 12.92, D: 0.7946440, G: 2.2026119, ZD: 1.3793620, GE: 0.2850028, E: 0.6978391\n",
            "2021-07-30 11:56:04,071 logger INFO: [46/80] - ptime: 12.92, D: 0.7946440, G: 2.2026119, ZD: 1.3793620, GE: 0.2850028, E: 0.6978391\n",
            "2021-07-30 11:56:04,071 logger INFO: [46/80] - ptime: 12.92, D: 0.7946440, G: 2.2026119, ZD: 1.3793620, GE: 0.2850028, E: 0.6978391\n"
          ],
          "name": "stdout"
        },
        {
          "output_type": "stream",
          "text": [
            "Progress: |###################################################| 100.0% [33/33] \n"
          ],
          "name": "stderr"
        },
        {
          "output_type": "stream",
          "text": [
            "2021-07-30 11:56:17,240 logger INFO: [47/80] - ptime: 12.86, D: 0.7386086, G: 2.4255674, ZD: 1.3881439, GE: 0.2887367, E: 0.7108079\n",
            "2021-07-30 11:56:17,240 logger INFO: [47/80] - ptime: 12.86, D: 0.7386086, G: 2.4255674, ZD: 1.3881439, GE: 0.2887367, E: 0.7108079\n",
            "2021-07-30 11:56:17,240 logger INFO: [47/80] - ptime: 12.86, D: 0.7386086, G: 2.4255674, ZD: 1.3881439, GE: 0.2887367, E: 0.7108079\n"
          ],
          "name": "stdout"
        },
        {
          "output_type": "stream",
          "text": [
            "Progress: |###################################################| 100.0% [33/33] \n"
          ],
          "name": "stderr"
        },
        {
          "output_type": "stream",
          "text": [
            "2021-07-30 11:56:30,483 logger INFO: [48/80] - ptime: 12.94, D: 0.7217358, G: 2.3476577, ZD: 1.3984139, GE: 0.2862647, E: 0.6690091\n",
            "2021-07-30 11:56:30,483 logger INFO: [48/80] - ptime: 12.94, D: 0.7217358, G: 2.3476577, ZD: 1.3984139, GE: 0.2862647, E: 0.6690091\n",
            "2021-07-30 11:56:30,483 logger INFO: [48/80] - ptime: 12.94, D: 0.7217358, G: 2.3476577, ZD: 1.3984139, GE: 0.2862647, E: 0.6690091\n"
          ],
          "name": "stdout"
        },
        {
          "output_type": "stream",
          "text": [
            "Progress: |###################################################| 100.0% [33/33] \n"
          ],
          "name": "stderr"
        },
        {
          "output_type": "stream",
          "text": [
            "2021-07-30 11:56:43,691 logger INFO: [49/80] - ptime: 12.91, D: 0.5813560, G: 2.4464405, ZD: 1.3832114, GE: 0.2830981, E: 0.6874030\n",
            "2021-07-30 11:56:43,691 logger INFO: [49/80] - ptime: 12.91, D: 0.5813560, G: 2.4464405, ZD: 1.3832114, GE: 0.2830981, E: 0.6874030\n",
            "2021-07-30 11:56:43,691 logger INFO: [49/80] - ptime: 12.91, D: 0.5813560, G: 2.4464405, ZD: 1.3832114, GE: 0.2830981, E: 0.6874030\n"
          ],
          "name": "stdout"
        },
        {
          "output_type": "stream",
          "text": [
            "Progress: |###################################################| 100.0% [33/33] \n"
          ],
          "name": "stderr"
        },
        {
          "output_type": "stream",
          "text": [
            "2021-07-30 11:56:56,927 logger INFO: [50/80] - ptime: 12.93, D: 0.7889603, G: 2.4353085, ZD: 1.3806019, GE: 0.2832544, E: 0.7075219\n",
            "2021-07-30 11:56:56,927 logger INFO: [50/80] - ptime: 12.93, D: 0.7889603, G: 2.4353085, ZD: 1.3806019, GE: 0.2832544, E: 0.7075219\n",
            "2021-07-30 11:56:56,927 logger INFO: [50/80] - ptime: 12.93, D: 0.7889603, G: 2.4353085, ZD: 1.3806019, GE: 0.2832544, E: 0.7075219\n"
          ],
          "name": "stdout"
        },
        {
          "output_type": "stream",
          "text": [
            "Progress: |###################################################| 100.0% [33/33] \n"
          ],
          "name": "stderr"
        },
        {
          "output_type": "stream",
          "text": [
            "2021-07-30 11:57:10,093 logger INFO: [51/80] - ptime: 12.86, D: 0.4748943, G: 2.7870913, ZD: 1.3896860, GE: 0.2856392, E: 0.6951839\n",
            "2021-07-30 11:57:10,093 logger INFO: [51/80] - ptime: 12.86, D: 0.4748943, G: 2.7870913, ZD: 1.3896860, GE: 0.2856392, E: 0.6951839\n",
            "2021-07-30 11:57:10,093 logger INFO: [51/80] - ptime: 12.86, D: 0.4748943, G: 2.7870913, ZD: 1.3896860, GE: 0.2856392, E: 0.6951839\n"
          ],
          "name": "stdout"
        },
        {
          "output_type": "stream",
          "text": [
            "Progress: |###################################################| 100.0% [33/33] \n"
          ],
          "name": "stderr"
        },
        {
          "output_type": "stream",
          "text": [
            "2021-07-30 11:57:23,336 logger INFO: [52/80] - ptime: 12.94, D: 0.5769600, G: 2.8089879, ZD: 1.3842078, GE: 0.2824468, E: 0.6899173\n",
            "2021-07-30 11:57:23,336 logger INFO: [52/80] - ptime: 12.94, D: 0.5769600, G: 2.8089879, ZD: 1.3842078, GE: 0.2824468, E: 0.6899173\n",
            "2021-07-30 11:57:23,336 logger INFO: [52/80] - ptime: 12.94, D: 0.5769600, G: 2.8089879, ZD: 1.3842078, GE: 0.2824468, E: 0.6899173\n"
          ],
          "name": "stdout"
        },
        {
          "output_type": "stream",
          "text": [
            "Progress: |###################################################| 100.0% [33/33] \n"
          ],
          "name": "stderr"
        },
        {
          "output_type": "stream",
          "text": [
            "2021-07-30 11:57:36,537 logger INFO: [53/80] - ptime: 12.90, D: 0.7061202, G: 2.5199487, ZD: 1.3875968, GE: 0.2840056, E: 0.6975490\n",
            "2021-07-30 11:57:36,537 logger INFO: [53/80] - ptime: 12.90, D: 0.7061202, G: 2.5199487, ZD: 1.3875968, GE: 0.2840056, E: 0.6975490\n",
            "2021-07-30 11:57:36,537 logger INFO: [53/80] - ptime: 12.90, D: 0.7061202, G: 2.5199487, ZD: 1.3875968, GE: 0.2840056, E: 0.6975490\n"
          ],
          "name": "stdout"
        },
        {
          "output_type": "stream",
          "text": [
            "Progress: |###################################################| 100.0% [33/33] \n"
          ],
          "name": "stderr"
        },
        {
          "output_type": "stream",
          "text": [
            "2021-07-30 11:57:49,762 logger INFO: [54/80] - ptime: 12.92, D: 0.6505460, G: 2.7982543, ZD: 1.3872701, GE: 0.2838568, E: 0.6856272\n",
            "2021-07-30 11:57:49,762 logger INFO: [54/80] - ptime: 12.92, D: 0.6505460, G: 2.7982543, ZD: 1.3872701, GE: 0.2838568, E: 0.6856272\n",
            "2021-07-30 11:57:49,762 logger INFO: [54/80] - ptime: 12.92, D: 0.6505460, G: 2.7982543, ZD: 1.3872701, GE: 0.2838568, E: 0.6856272\n"
          ],
          "name": "stdout"
        },
        {
          "output_type": "stream",
          "text": [
            "Progress: |###################################################| 100.0% [33/33] \n"
          ],
          "name": "stderr"
        },
        {
          "output_type": "stream",
          "text": [
            "2021-07-30 11:58:03,092 logger INFO: [55/80] - ptime: 12.88, D: 0.5364127, G: 2.8175199, ZD: 1.3847076, GE: 0.2830891, E: 0.6921829\n",
            "2021-07-30 11:58:03,092 logger INFO: [55/80] - ptime: 12.88, D: 0.5364127, G: 2.8175199, ZD: 1.3847076, GE: 0.2830891, E: 0.6921829\n",
            "2021-07-30 11:58:03,092 logger INFO: [55/80] - ptime: 12.88, D: 0.5364127, G: 2.8175199, ZD: 1.3847076, GE: 0.2830891, E: 0.6921829\n"
          ],
          "name": "stdout"
        },
        {
          "output_type": "stream",
          "text": [
            "Progress: |###################################################| 100.0% [33/33] \n"
          ],
          "name": "stderr"
        },
        {
          "output_type": "stream",
          "text": [
            "2021-07-30 11:58:16,295 logger INFO: [56/80] - ptime: 12.91, D: 0.6848564, G: 2.8611495, ZD: 1.3902959, GE: 0.2815617, E: 0.6848132\n",
            "2021-07-30 11:58:16,295 logger INFO: [56/80] - ptime: 12.91, D: 0.6848564, G: 2.8611495, ZD: 1.3902959, GE: 0.2815617, E: 0.6848132\n",
            "2021-07-30 11:58:16,295 logger INFO: [56/80] - ptime: 12.91, D: 0.6848564, G: 2.8611495, ZD: 1.3902959, GE: 0.2815617, E: 0.6848132\n"
          ],
          "name": "stdout"
        },
        {
          "output_type": "stream",
          "text": [
            "Progress: |###################################################| 100.0% [33/33] \n"
          ],
          "name": "stderr"
        },
        {
          "output_type": "stream",
          "text": [
            "2021-07-30 11:58:29,439 logger INFO: [57/80] - ptime: 12.83, D: 0.4321539, G: 2.9260166, ZD: 1.3875961, GE: 0.2814884, E: 0.6902493\n",
            "2021-07-30 11:58:29,439 logger INFO: [57/80] - ptime: 12.83, D: 0.4321539, G: 2.9260166, ZD: 1.3875961, GE: 0.2814884, E: 0.6902493\n",
            "2021-07-30 11:58:29,439 logger INFO: [57/80] - ptime: 12.83, D: 0.4321539, G: 2.9260166, ZD: 1.3875961, GE: 0.2814884, E: 0.6902493\n"
          ],
          "name": "stdout"
        },
        {
          "output_type": "stream",
          "text": [
            "Progress: |###################################################| 100.0% [33/33] \n"
          ],
          "name": "stderr"
        },
        {
          "output_type": "stream",
          "text": [
            "2021-07-30 11:58:42,634 logger INFO: [58/80] - ptime: 12.90, D: 0.5805056, G: 3.1306152, ZD: 1.3858230, GE: 0.2813334, E: 0.6926072\n",
            "2021-07-30 11:58:42,634 logger INFO: [58/80] - ptime: 12.90, D: 0.5805056, G: 3.1306152, ZD: 1.3858230, GE: 0.2813334, E: 0.6926072\n",
            "2021-07-30 11:58:42,634 logger INFO: [58/80] - ptime: 12.90, D: 0.5805056, G: 3.1306152, ZD: 1.3858230, GE: 0.2813334, E: 0.6926072\n"
          ],
          "name": "stdout"
        },
        {
          "output_type": "stream",
          "text": [
            "Progress: |###################################################| 100.0% [33/33] \n"
          ],
          "name": "stderr"
        },
        {
          "output_type": "stream",
          "text": [
            "2021-07-30 11:58:55,813 logger INFO: [59/80] - ptime: 12.88, D: 0.1969206, G: 3.5908008, ZD: 1.3901765, GE: 0.2830546, E: 0.6855346\n",
            "2021-07-30 11:58:55,813 logger INFO: [59/80] - ptime: 12.88, D: 0.1969206, G: 3.5908008, ZD: 1.3901765, GE: 0.2830546, E: 0.6855346\n",
            "2021-07-30 11:58:55,813 logger INFO: [59/80] - ptime: 12.88, D: 0.1969206, G: 3.5908008, ZD: 1.3901765, GE: 0.2830546, E: 0.6855346\n",
            "learning rate change!\n"
          ],
          "name": "stdout"
        },
        {
          "output_type": "stream",
          "text": [
            "Progress: |###################################################| 100.0% [33/33] \n"
          ],
          "name": "stderr"
        },
        {
          "output_type": "stream",
          "text": [
            "2021-07-30 11:59:09,071 logger INFO: [60/80] - ptime: 12.94, D: 0.1763410, G: 3.0472217, ZD: 1.3800970, GE: 0.2756227, E: 0.6952122\n",
            "2021-07-30 11:59:09,071 logger INFO: [60/80] - ptime: 12.94, D: 0.1763410, G: 3.0472217, ZD: 1.3800970, GE: 0.2756227, E: 0.6952122\n",
            "2021-07-30 11:59:09,071 logger INFO: [60/80] - ptime: 12.94, D: 0.1763410, G: 3.0472217, ZD: 1.3800970, GE: 0.2756227, E: 0.6952122\n"
          ],
          "name": "stdout"
        },
        {
          "output_type": "stream",
          "text": [
            "Progress: |###################################################| 100.0% [33/33] \n"
          ],
          "name": "stderr"
        },
        {
          "output_type": "stream",
          "text": [
            "2021-07-30 11:59:22,315 logger INFO: [61/80] - ptime: 12.92, D: 0.1751710, G: 3.0583911, ZD: 1.3807561, GE: 0.2764115, E: 0.7055799\n",
            "2021-07-30 11:59:22,315 logger INFO: [61/80] - ptime: 12.92, D: 0.1751710, G: 3.0583911, ZD: 1.3807561, GE: 0.2764115, E: 0.7055799\n",
            "2021-07-30 11:59:22,315 logger INFO: [61/80] - ptime: 12.92, D: 0.1751710, G: 3.0583911, ZD: 1.3807561, GE: 0.2764115, E: 0.7055799\n"
          ],
          "name": "stdout"
        },
        {
          "output_type": "stream",
          "text": [
            "Progress: |###################################################| 100.0% [33/33] \n"
          ],
          "name": "stderr"
        },
        {
          "output_type": "stream",
          "text": [
            "2021-07-30 11:59:35,565 logger INFO: [62/80] - ptime: 12.94, D: 0.1728879, G: 3.0927155, ZD: 1.3866153, GE: 0.2767956, E: 0.7038034\n",
            "2021-07-30 11:59:35,565 logger INFO: [62/80] - ptime: 12.94, D: 0.1728879, G: 3.0927155, ZD: 1.3866153, GE: 0.2767956, E: 0.7038034\n",
            "2021-07-30 11:59:35,565 logger INFO: [62/80] - ptime: 12.94, D: 0.1728879, G: 3.0927155, ZD: 1.3866153, GE: 0.2767956, E: 0.7038034\n"
          ],
          "name": "stdout"
        },
        {
          "output_type": "stream",
          "text": [
            "Progress: |###################################################| 100.0% [33/33] \n"
          ],
          "name": "stderr"
        },
        {
          "output_type": "stream",
          "text": [
            "2021-07-30 11:59:48,713 logger INFO: [63/80] - ptime: 12.84, D: 0.1638182, G: 3.2183962, ZD: 1.3873502, GE: 0.2777828, E: 0.6973916\n",
            "2021-07-30 11:59:48,713 logger INFO: [63/80] - ptime: 12.84, D: 0.1638182, G: 3.2183962, ZD: 1.3873502, GE: 0.2777828, E: 0.6973916\n",
            "2021-07-30 11:59:48,713 logger INFO: [63/80] - ptime: 12.84, D: 0.1638182, G: 3.2183962, ZD: 1.3873502, GE: 0.2777828, E: 0.6973916\n"
          ],
          "name": "stdout"
        },
        {
          "output_type": "stream",
          "text": [
            "Progress: |###################################################| 100.0% [33/33] \n"
          ],
          "name": "stderr"
        },
        {
          "output_type": "stream",
          "text": [
            "2021-07-30 12:00:01,941 logger INFO: [64/80] - ptime: 12.91, D: 0.1498560, G: 3.1751497, ZD: 1.3817791, GE: 0.2766806, E: 0.6960664\n",
            "2021-07-30 12:00:01,941 logger INFO: [64/80] - ptime: 12.91, D: 0.1498560, G: 3.1751497, ZD: 1.3817791, GE: 0.2766806, E: 0.6960664\n",
            "2021-07-30 12:00:01,941 logger INFO: [64/80] - ptime: 12.91, D: 0.1498560, G: 3.1751497, ZD: 1.3817791, GE: 0.2766806, E: 0.6960664\n"
          ],
          "name": "stdout"
        },
        {
          "output_type": "stream",
          "text": [
            "Progress: |###################################################| 100.0% [33/33] \n"
          ],
          "name": "stderr"
        },
        {
          "output_type": "stream",
          "text": [
            "2021-07-30 12:00:15,101 logger INFO: [65/80] - ptime: 12.85, D: 0.1489542, G: 3.3208997, ZD: 1.3811865, GE: 0.2748916, E: 0.6939760\n",
            "2021-07-30 12:00:15,101 logger INFO: [65/80] - ptime: 12.85, D: 0.1489542, G: 3.3208997, ZD: 1.3811865, GE: 0.2748916, E: 0.6939760\n",
            "2021-07-30 12:00:15,101 logger INFO: [65/80] - ptime: 12.85, D: 0.1489542, G: 3.3208997, ZD: 1.3811865, GE: 0.2748916, E: 0.6939760\n"
          ],
          "name": "stdout"
        },
        {
          "output_type": "stream",
          "text": [
            "Progress: |###################################################| 100.0% [33/33] \n"
          ],
          "name": "stderr"
        },
        {
          "output_type": "stream",
          "text": [
            "2021-07-30 12:00:28,321 logger INFO: [66/80] - ptime: 12.92, D: 0.1408999, G: 3.3254161, ZD: 1.3943628, GE: 0.2761405, E: 0.6827570\n",
            "2021-07-30 12:00:28,321 logger INFO: [66/80] - ptime: 12.92, D: 0.1408999, G: 3.3254161, ZD: 1.3943628, GE: 0.2761405, E: 0.6827570\n",
            "2021-07-30 12:00:28,321 logger INFO: [66/80] - ptime: 12.92, D: 0.1408999, G: 3.3254161, ZD: 1.3943628, GE: 0.2761405, E: 0.6827570\n"
          ],
          "name": "stdout"
        },
        {
          "output_type": "stream",
          "text": [
            "Progress: |###################################################| 100.0% [33/33] \n"
          ],
          "name": "stderr"
        },
        {
          "output_type": "stream",
          "text": [
            "2021-07-30 12:00:41,509 logger INFO: [67/80] - ptime: 12.86, D: 0.1340296, G: 3.4043050, ZD: 1.3875915, GE: 0.2765765, E: 0.6937016\n",
            "2021-07-30 12:00:41,509 logger INFO: [67/80] - ptime: 12.86, D: 0.1340296, G: 3.4043050, ZD: 1.3875915, GE: 0.2765765, E: 0.6937016\n",
            "2021-07-30 12:00:41,509 logger INFO: [67/80] - ptime: 12.86, D: 0.1340296, G: 3.4043050, ZD: 1.3875915, GE: 0.2765765, E: 0.6937016\n"
          ],
          "name": "stdout"
        },
        {
          "output_type": "stream",
          "text": [
            "Progress: |###################################################| 100.0% [33/33] \n"
          ],
          "name": "stderr"
        },
        {
          "output_type": "stream",
          "text": [
            "2021-07-30 12:00:54,712 logger INFO: [68/80] - ptime: 12.90, D: 0.1424164, G: 3.3578801, ZD: 1.3756552, GE: 0.2765873, E: 0.7109837\n",
            "2021-07-30 12:00:54,712 logger INFO: [68/80] - ptime: 12.90, D: 0.1424164, G: 3.3578801, ZD: 1.3756552, GE: 0.2765873, E: 0.7109837\n",
            "2021-07-30 12:00:54,712 logger INFO: [68/80] - ptime: 12.90, D: 0.1424164, G: 3.3578801, ZD: 1.3756552, GE: 0.2765873, E: 0.7109837\n"
          ],
          "name": "stdout"
        },
        {
          "output_type": "stream",
          "text": [
            "Progress: |###################################################| 100.0% [33/33] \n"
          ],
          "name": "stderr"
        },
        {
          "output_type": "stream",
          "text": [
            "2021-07-30 12:01:07,914 logger INFO: [69/80] - ptime: 12.88, D: 0.1230651, G: 3.6119347, ZD: 1.3932467, GE: 0.2772786, E: 0.6882172\n",
            "2021-07-30 12:01:07,914 logger INFO: [69/80] - ptime: 12.88, D: 0.1230651, G: 3.6119347, ZD: 1.3932467, GE: 0.2772786, E: 0.6882172\n",
            "2021-07-30 12:01:07,914 logger INFO: [69/80] - ptime: 12.88, D: 0.1230651, G: 3.6119347, ZD: 1.3932467, GE: 0.2772786, E: 0.6882172\n"
          ],
          "name": "stdout"
        },
        {
          "output_type": "stream",
          "text": [
            "Progress: |###################################################| 100.0% [33/33] \n"
          ],
          "name": "stderr"
        },
        {
          "output_type": "stream",
          "text": [
            "2021-07-30 12:01:21,168 logger INFO: [70/80] - ptime: 12.93, D: 0.1101480, G: 3.5994318, ZD: 1.3925450, GE: 0.2752635, E: 0.6785852\n",
            "2021-07-30 12:01:21,168 logger INFO: [70/80] - ptime: 12.93, D: 0.1101480, G: 3.5994318, ZD: 1.3925450, GE: 0.2752635, E: 0.6785852\n",
            "2021-07-30 12:01:21,168 logger INFO: [70/80] - ptime: 12.93, D: 0.1101480, G: 3.5994318, ZD: 1.3925450, GE: 0.2752635, E: 0.6785852\n"
          ],
          "name": "stdout"
        },
        {
          "output_type": "stream",
          "text": [
            "Progress: |###################################################| 100.0% [33/33] \n"
          ],
          "name": "stderr"
        },
        {
          "output_type": "stream",
          "text": [
            "2021-07-30 12:01:34,334 logger INFO: [71/80] - ptime: 12.85, D: 0.1200159, G: 3.7207780, ZD: 1.3851360, GE: 0.2745097, E: 0.6866294\n",
            "2021-07-30 12:01:34,334 logger INFO: [71/80] - ptime: 12.85, D: 0.1200159, G: 3.7207780, ZD: 1.3851360, GE: 0.2745097, E: 0.6866294\n",
            "2021-07-30 12:01:34,334 logger INFO: [71/80] - ptime: 12.85, D: 0.1200159, G: 3.7207780, ZD: 1.3851360, GE: 0.2745097, E: 0.6866294\n"
          ],
          "name": "stdout"
        },
        {
          "output_type": "stream",
          "text": [
            "Progress: |###################################################| 100.0% [33/33] \n"
          ],
          "name": "stderr"
        },
        {
          "output_type": "stream",
          "text": [
            "2021-07-30 12:01:47,531 logger INFO: [72/80] - ptime: 12.89, D: 0.1086985, G: 3.8042946, ZD: 1.3816354, GE: 0.2744380, E: 0.6969298\n",
            "2021-07-30 12:01:47,531 logger INFO: [72/80] - ptime: 12.89, D: 0.1086985, G: 3.8042946, ZD: 1.3816354, GE: 0.2744380, E: 0.6969298\n",
            "2021-07-30 12:01:47,531 logger INFO: [72/80] - ptime: 12.89, D: 0.1086985, G: 3.8042946, ZD: 1.3816354, GE: 0.2744380, E: 0.6969298\n"
          ],
          "name": "stdout"
        },
        {
          "output_type": "stream",
          "text": [
            "Progress: |###################################################| 100.0% [33/33] \n"
          ],
          "name": "stderr"
        },
        {
          "output_type": "stream",
          "text": [
            "2021-07-30 12:02:00,701 logger INFO: [73/80] - ptime: 12.84, D: 0.1138199, G: 3.8992319, ZD: 1.3859017, GE: 0.2737272, E: 0.6981218\n",
            "2021-07-30 12:02:00,701 logger INFO: [73/80] - ptime: 12.84, D: 0.1138199, G: 3.8992319, ZD: 1.3859017, GE: 0.2737272, E: 0.6981218\n",
            "2021-07-30 12:02:00,701 logger INFO: [73/80] - ptime: 12.84, D: 0.1138199, G: 3.8992319, ZD: 1.3859017, GE: 0.2737272, E: 0.6981218\n"
          ],
          "name": "stdout"
        },
        {
          "output_type": "stream",
          "text": [
            "Progress: |###################################################| 100.0% [33/33] \n"
          ],
          "name": "stderr"
        },
        {
          "output_type": "stream",
          "text": [
            "2021-07-30 12:02:13,967 logger INFO: [74/80] - ptime: 12.94, D: 0.0933722, G: 3.9207366, ZD: 1.3840395, GE: 0.2730813, E: 0.7025473\n",
            "2021-07-30 12:02:13,967 logger INFO: [74/80] - ptime: 12.94, D: 0.0933722, G: 3.9207366, ZD: 1.3840395, GE: 0.2730813, E: 0.7025473\n",
            "2021-07-30 12:02:13,967 logger INFO: [74/80] - ptime: 12.94, D: 0.0933722, G: 3.9207366, ZD: 1.3840395, GE: 0.2730813, E: 0.7025473\n"
          ],
          "name": "stdout"
        },
        {
          "output_type": "stream",
          "text": [
            "Progress: |###################################################| 100.0% [33/33] \n"
          ],
          "name": "stderr"
        },
        {
          "output_type": "stream",
          "text": [
            "2021-07-30 12:02:27,119 logger INFO: [75/80] - ptime: 12.84, D: 0.0924096, G: 3.9460042, ZD: 1.3802546, GE: 0.2754548, E: 0.7061232\n",
            "2021-07-30 12:02:27,119 logger INFO: [75/80] - ptime: 12.84, D: 0.0924096, G: 3.9460042, ZD: 1.3802546, GE: 0.2754548, E: 0.7061232\n",
            "2021-07-30 12:02:27,119 logger INFO: [75/80] - ptime: 12.84, D: 0.0924096, G: 3.9460042, ZD: 1.3802546, GE: 0.2754548, E: 0.7061232\n"
          ],
          "name": "stdout"
        },
        {
          "output_type": "stream",
          "text": [
            "Progress: |###################################################| 100.0% [33/33] \n"
          ],
          "name": "stderr"
        },
        {
          "output_type": "stream",
          "text": [
            "2021-07-30 12:02:40,372 logger INFO: [76/80] - ptime: 12.94, D: 0.0860652, G: 4.0372410, ZD: 1.3899620, GE: 0.2744530, E: 0.6900730\n",
            "2021-07-30 12:02:40,372 logger INFO: [76/80] - ptime: 12.94, D: 0.0860652, G: 4.0372410, ZD: 1.3899620, GE: 0.2744530, E: 0.6900730\n",
            "2021-07-30 12:02:40,372 logger INFO: [76/80] - ptime: 12.94, D: 0.0860652, G: 4.0372410, ZD: 1.3899620, GE: 0.2744530, E: 0.6900730\n"
          ],
          "name": "stdout"
        },
        {
          "output_type": "stream",
          "text": [
            "Progress: |###################################################| 100.0% [33/33] \n"
          ],
          "name": "stderr"
        },
        {
          "output_type": "stream",
          "text": [
            "2021-07-30 12:02:53,553 logger INFO: [77/80] - ptime: 12.86, D: 0.0783635, G: 4.0240746, ZD: 1.3858064, GE: 0.2729911, E: 0.6903972\n",
            "2021-07-30 12:02:53,553 logger INFO: [77/80] - ptime: 12.86, D: 0.0783635, G: 4.0240746, ZD: 1.3858064, GE: 0.2729911, E: 0.6903972\n",
            "2021-07-30 12:02:53,553 logger INFO: [77/80] - ptime: 12.86, D: 0.0783635, G: 4.0240746, ZD: 1.3858064, GE: 0.2729911, E: 0.6903972\n"
          ],
          "name": "stdout"
        },
        {
          "output_type": "stream",
          "text": [
            "Progress: |###################################################| 100.0% [33/33] \n"
          ],
          "name": "stderr"
        },
        {
          "output_type": "stream",
          "text": [
            "2021-07-30 12:03:06,985 logger INFO: [78/80] - ptime: 12.91, D: 0.0814738, G: 4.2950010, ZD: 1.3826762, GE: 0.2736085, E: 0.6973950\n",
            "2021-07-30 12:03:06,985 logger INFO: [78/80] - ptime: 12.91, D: 0.0814738, G: 4.2950010, ZD: 1.3826762, GE: 0.2736085, E: 0.6973950\n",
            "2021-07-30 12:03:06,985 logger INFO: [78/80] - ptime: 12.91, D: 0.0814738, G: 4.2950010, ZD: 1.3826762, GE: 0.2736085, E: 0.6973950\n"
          ],
          "name": "stdout"
        },
        {
          "output_type": "stream",
          "text": [
            "Progress: |###################################################| 100.0% [33/33] \n"
          ],
          "name": "stderr"
        },
        {
          "output_type": "stream",
          "text": [
            "2021-07-30 12:03:20,177 logger INFO: [79/80] - ptime: 12.87, D: 0.0689101, G: 4.3193955, ZD: 1.3849752, GE: 0.2728510, E: 0.6996985\n",
            "2021-07-30 12:03:20,177 logger INFO: [79/80] - ptime: 12.87, D: 0.0689101, G: 4.3193955, ZD: 1.3849752, GE: 0.2728510, E: 0.6996985\n",
            "2021-07-30 12:03:20,177 logger INFO: [79/80] - ptime: 12.87, D: 0.0689101, G: 4.3193955, ZD: 1.3849752, GE: 0.2728510, E: 0.6996985\n"
          ],
          "name": "stdout"
        },
        {
          "output_type": "stream",
          "text": [
            "Progress: |###################################################| 100.0% [33/33] \n"
          ],
          "name": "stderr"
        },
        {
          "output_type": "stream",
          "text": [
            "2021-07-30 12:03:33,404 logger INFO: [80/80] - ptime: 12.91, D: 0.0696298, G: 4.4933543, ZD: 1.3832042, GE: 0.2723307, E: 0.7004957\n",
            "2021-07-30 12:03:33,404 logger INFO: [80/80] - ptime: 12.91, D: 0.0696298, G: 4.4933543, ZD: 1.3832042, GE: 0.2723307, E: 0.7004957\n",
            "2021-07-30 12:03:33,404 logger INFO: [80/80] - ptime: 12.91, D: 0.0696298, G: 4.4933543, ZD: 1.3832042, GE: 0.2723307, E: 0.7004957\n",
            "2021-07-30 12:03:33,716 logger INFO: Training finish!... save training results\n",
            "2021-07-30 12:03:33,716 logger INFO: Training finish!... save training results\n",
            "2021-07-30 12:03:33,716 logger INFO: Training finish!... save training results\n",
            "Training finish!... save training results\n",
            "Running on  Tesla K80\n",
            "Validation set size: 13996\n",
            "Test set size: 13996\n"
          ],
          "name": "stdout"
        },
        {
          "output_type": "stream",
          "text": [
            "Progress: |####################################################| 100.0% [5/5] \n",
            "/content/novelty_detector.py:68: VisibleDeprecationWarning: Passing `normed=True` on non-uniform bins has always been broken, and computes neither the probability density function nor the probability mass function. The result is only correct if the bins are uniform, when density=True will produce the same result anyway. The argument will be removed in a future version of numpy.\n",
            "  counts, bin_edges = np.histogram(rlist, bins=30, normed=True)\n",
            "Progress: |##################################################| 100.0% [124/124] \n"
          ],
          "name": "stderr"
        },
        {
          "output_type": "stream",
          "text": [
            "2021-07-30 12:23:17,001 logger INFO: Best e: -193.671311 best f1: 0.994104\n",
            "2021-07-30 12:23:17,001 logger INFO: Best e: -193.671311 best f1: 0.994104\n",
            "2021-07-30 12:23:17,001 logger INFO: Best e: -193.671311 best f1: 0.994104\n"
          ],
          "name": "stdout"
        },
        {
          "output_type": "stream",
          "text": [
            "Progress: |#############################################-----| 91.9% [114/124] "
          ],
          "name": "stderr"
        }
      ]
    }
  ]
}